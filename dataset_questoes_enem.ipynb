{
  "cells": [
    {
      "cell_type": "code",
      "execution_count": 1,
      "metadata": {
        "colab": {
          "base_uri": "https://localhost:8080/"
        },
        "id": "pcXXYSHRb7ps",
        "outputId": "2d8d5d63-c40d-4512-c9ee-1c0dc6618cc8"
      },
      "outputs": [
        {
          "name": "stdout",
          "output_type": "stream",
          "text": [
            "Collecting pymupdf\n",
            "  Downloading pymupdf-1.25.5-cp39-abi3-macosx_11_0_arm64.whl (18.6 MB)\n",
            "\u001b[K     |████████████████████████████████| 18.6 MB 15.2 MB/s eta 0:00:01\n",
            "\u001b[?25hCollecting wget\n",
            "  Using cached wget-3.2-py3-none-any.whl\n",
            "Installing collected packages: wget, pymupdf\n",
            "Successfully installed pymupdf-1.25.5 wget-3.2\n",
            "\u001b[33mWARNING: You are using pip version 21.2.4; however, version 25.1.1 is available.\n",
            "You should consider upgrading via the '/Users/carlosalberto/Documents/projects/ai/TEESI_2025/venv/bin/python3 -m pip install --upgrade pip' command.\u001b[0m\n"
          ]
        }
      ],
      "source": [
        "#Instalação\n",
        "!pip install pymupdf wget"
      ]
    },
    {
      "cell_type": "code",
      "execution_count": 2,
      "metadata": {
        "id": "S65gR2qydPX8"
      },
      "outputs": [],
      "source": [
        "import fitz\n",
        "import os\n",
        "\n",
        "import numpy as np\n",
        "import pandas as pd\n",
        "\n",
        "import re"
      ]
    },
    {
      "cell_type": "code",
      "execution_count": null,
      "metadata": {
        "id": "wYSqokDdfrCo"
      },
      "outputs": [],
      "source": [
        "#Loader PDF to Text\n",
        "class PdfToText():\n",
        "  def __init__(self):\n",
        "    pass\n",
        "\n",
        "  def convert_from_file(self, filename):\n",
        "    try:\n",
        "      doc = self.load_pdf(filename)\n",
        "    except:\n",
        "      print( \"Unable to open file.\" )\n",
        "      return \"\"\n",
        "\n",
        "    text = \"\"\n",
        "    i = 0;\n",
        "    for page in doc:\n",
        "      text += page.get_text()+f\"pagina {i}\" + (50 * \"-\") + \"\\n\\n\\n\"\n",
        "      i = i + 1;\n",
        "    \n",
        "    doc.close()\n",
        "    return text\n",
        "\n",
        "  def load_pdf(self, filename):\n",
        "    return fitz.open(filename)\n",
        "\n",
        "class EnemExam(PdfToText):\n",
        "  def __init__(self):\n",
        "    pass\n",
        "\n",
        "  def read_questions(self, filename):\n",
        "    self.text = self.convert_from_file(filename)\n",
        "    #print(self.text)\n",
        "    self.find_topics()\n",
        "    self.find_questions()\n",
        "\n",
        "  def find_topics(self):\n",
        "    self._topics = ['matemática e suas tecnologias',\n",
        "                    'linguagens, códigos',\n",
        "                    'ciências humanas',\n",
        "                    'ciências da natureza',\n",
        "                    ]\n",
        "\n",
        "    topic_poss = [ self.text.lower().rfind(topic) for topic in self._topics ]\n",
        "\n",
        "    self._topics_loc = [ (topic,topic_pos) for topic, topic_pos in zip(self._topics, topic_poss) if topic_pos>0 ]\n",
        "    #ordena pela posição do tópico no texto.\n",
        "    self._topics_loc.sort( key=lambda t: t[1] )\n",
        "\n",
        "  def find_questions(self):\n",
        "    matchs = []\n",
        "    for match in re.finditer('\\n(questão) [0-9]+', self.text.lower()):\n",
        "      matchs.append( match.start() )\n",
        "\n",
        "    start_pos = matchs[-1]\n",
        "    match_end = re.search(r'\\*[a-z0-9]+\\*', self.text.lower()[start_pos:])\n",
        "    matchs.append(start_pos + match_end.start())\n",
        "   \n",
        "    self.questions = []\n",
        "    self.questions_topic = []\n",
        "    self.questions_start = []\n",
        "    for i in range( 1, len(matchs) ):\n",
        "      self.questions.append( self.text[matchs[i-1]:matchs[i] ] )\n",
        "      self.questions_topic.append( self.define_question_topic(matchs[i-1]) )\n",
        "      self.questions_start.append( matchs[i-1] )\n",
        "\n",
        "    \n",
        "    print(self.questions[-1])\n",
        "\n",
        "  def define_question_topic(self, start):\n",
        "    question_topic = 0 #UNDEFINED\n",
        "\n",
        "    for topic, topic_start in self._topics_loc:\n",
        "      if start > topic_start:\n",
        "        question_topic = (self._topics.index(topic)+1)\n",
        "\n",
        "    return question_topic"
      ]
    },
    {
      "cell_type": "code",
      "execution_count": 83,
      "metadata": {
        "id": "hW0wtjpag6dv"
      },
      "outputs": [
        {
          "name": "stdout",
          "output_type": "stream",
          "text": [
            "[3677, 4165, 4800, 6960, 8067, 8499, 12006, 13074, 14694, 15965, 18763, 20554, 22409, 25456, 26790, 27900, 31325, 33106, 35106, 38254, 40592, 42008, 44824, 46479, 48067, 51370, 52613, 56178, 57742, 58858, 61237, 62702, 64224, 68239, 69543, 72150, 75357, 76757, 77227, 80741, 82351, 84230, 85892, 86428, 90043, 91250, 92642, 95645, 96891, 98174, 106951, 108314, 109140, 110018, 112597, 113734, 114752, 115765, 117821, 118781, 119559, 120641, 122976, 124564, 125424, 126576, 129174, 130514, 131307, 132744, 135112, 136147, 136970, 139848, 140794, 141719, 143274, 145944, 146725, 147901, 149200, 151675, 152126, 152927, 154549, 156131, 156907, 158072, 160382, 161816, 162927, 164968, 165796, 166678, 167577, 168359]\n",
            "\n",
            "QUESTÃO 90\t\n",
            "Uma fábrica na qual os operários fossem, efetiva e \n",
            "integralmente, simples peças de máquinas executando \n",
            "cegamente as ordens da direção pararia em quinze minutos. \n",
            "O capitalismo só pode funcionar com a contribuição constante \n",
            "da atividade propriamente humana de seus subjugados que, \n",
            "ao mesmo tempo, tenta reduzir e desumanizar o mais possível.\n",
            "CASTORIADIS, C. A instituição imaginária da sociedade. \n",
            "Rio de Janeiro: Paz e Terra, 1982.\n",
            "O texto apresenta uma contradição interna do capitalismo \n",
            "caracterizada pela\n",
            "A\tobsolescência associada ao uso da tecnologia.\n",
            "B\torientação voltada à administração de conflitos.\n",
            "C\talienação decorrente da organização do trabalho.\n",
            "D\tisonomia remanescente da geração de riquezas.\n",
            "E\tprodutividade vinculada ao fortalecimento da autonomia.\n",
            "\n"
          ]
        }
      ],
      "source": [
        "nome_arquivo_provas = os.listdir('./temp/')\n",
        "enem_exam = EnemExam()\n",
        "enem_dfs = []\n",
        "\n",
        "for nome_arquivo_prova in nome_arquivo_provas:\n",
        "  enem_exam.read_questions('./temp/'+nome_arquivo_prova)\n",
        "#  enem_dfs.append(\n",
        "#      pd.DataFrame( data=dict( enunciado=enem_exam.questions, label=enem_exam.questions_topic )\n",
        "#    )\n",
        "#  )"
      ]
    },
    {
      "cell_type": "code",
      "execution_count": 9,
      "metadata": {
        "id": "95R_MC34hLpw"
      },
      "outputs": [
        {
          "name": "stdout",
          "output_type": "stream",
          "text": [
            "732\n",
            "183\n"
          ]
        }
      ],
      "source": [
        "from sklearn.model_selection import train_test_split\n",
        "\n",
        "questions_df = pd.concat( enem_dfs )\n",
        "\n",
        "\n",
        "train_df, test_df = train_test_split(questions_df, test_size=0.2, random_state=42)\n",
        "\n",
        "print(len(train_df))\n",
        "print(len(test_df))"
      ]
    },
    {
      "cell_type": "code",
      "execution_count": 10,
      "metadata": {
        "id": "LVgGYQ4ThQHd"
      },
      "outputs": [],
      "source": [
        "train_df.to_json( 'data/train/enem_questoes.json', orient='records' )\n",
        "test_df.to_json( 'data/test/enem_questoes.json', orient='records' )"
      ]
    },
    {
      "cell_type": "code",
      "execution_count": 11,
      "metadata": {
        "id": "6apxxVlFhSbI"
      },
      "outputs": [
        {
          "name": "stderr",
          "output_type": "stream",
          "text": [
            "/opt/anaconda3/envs/mestrado/lib/python3.13/site-packages/tqdm/auto.py:21: TqdmWarning: IProgress not found. Please update jupyter and ipywidgets. See https://ipywidgets.readthedocs.io/en/stable/user_install.html\n",
            "  from .autonotebook import tqdm as notebook_tqdm\n",
            "Generating train split: 732 examples [00:00, 17037.43 examples/s]\n",
            "Generating test split: 183 examples [00:00, 28965.53 examples/s]"
          ]
        },
        {
          "name": "stdout",
          "output_type": "stream",
          "text": [
            "DatasetDict({\n",
            "    train: Dataset({\n",
            "        features: ['enunciado', 'label'],\n",
            "        num_rows: 732\n",
            "    })\n",
            "    test: Dataset({\n",
            "        features: ['enunciado', 'label'],\n",
            "        num_rows: 183\n",
            "    })\n",
            "})\n"
          ]
        },
        {
          "name": "stderr",
          "output_type": "stream",
          "text": [
            "\n"
          ]
        }
      ],
      "source": [
        "from datasets import load_dataset\n",
        "\n",
        "# Caminho para o diretorio\n",
        "json_dir_path = \"./data\"\n",
        "\n",
        "# Carregar o dataset a partir do diretorio\n",
        "dataset = load_dataset(\"json\", data_dir= json_dir_path)\n",
        "\n",
        "# Exibir algumas amostras do dataset\n",
        "print(dataset)"
      ]
    },
    {
      "cell_type": "code",
      "execution_count": 16,
      "metadata": {
        "id": "Gx3WWS5ShUPT"
      },
      "outputs": [
        {
          "name": "stdout",
          "output_type": "stream",
          "text": [
            "\n",
            "QUESTÃO 151\t\n",
            "Definem-se o dia e o ano de um planeta de um sistema solar \n",
            "como sendo, respectivamente, o tempo que o planeta leva para \n",
            "dar 1 volta completa em torno de seu próprio eixo de rotação e o \n",
            "tempo para dar 1 volta completa em torno de seu Sol.\n",
            "Suponha que exista um planeta Z, em algum sistema \n",
            "solar, onde um dia corresponda a 73 dias terrestres e \n",
            "que 2 de seus anos correspondam a 1 ano terrestre. \n",
            "Considere que 1 ano terrestre tem 365 de seus dias.\n",
            "No planeta Z, seu ano corresponderia a quantos de seus \n",
            "dias?\n",
            "A\t\n",
            "A\t 2,5\n",
            "B\t\n",
            "B\t 10,0\n",
            "C\t\n",
            "C\t 730,0\n",
            "D\t\n",
            "D\t 13 322,5\n",
            "E\t\n",
            "E\t 53 290,0\n"
          ]
        }
      ],
      "source": [
        "import pandas as pd\n",
        "\n",
        "dataset.set_format(type=\"pandas\")\n",
        "df = dataset[\"train\"][:300]\n",
        "\n",
        "#df.head()\n",
        "\n",
        "print(df.iloc[0][\"enunciado\"])"
      ]
    }
  ],
  "metadata": {
    "colab": {
      "provenance": []
    },
    "kernelspec": {
      "display_name": "venv",
      "language": "python",
      "name": "python3"
    },
    "language_info": {
      "codemirror_mode": {
        "name": "ipython",
        "version": 3
      },
      "file_extension": ".py",
      "mimetype": "text/x-python",
      "name": "python",
      "nbconvert_exporter": "python",
      "pygments_lexer": "ipython3",
      "version": "3.9.6"
    }
  },
  "nbformat": 4,
  "nbformat_minor": 0
}
