{
  "cells": [
    {
      "cell_type": "code",
      "execution_count": 1,
      "metadata": {
        "colab": {
          "base_uri": "https://localhost:8080/"
        },
        "id": "pcXXYSHRb7ps",
        "outputId": "2d8d5d63-c40d-4512-c9ee-1c0dc6618cc8"
      },
      "outputs": [
        {
          "name": "stdout",
          "output_type": "stream",
          "text": [
            "Requirement already satisfied: pymupdf in ./venv/lib/python3.9/site-packages (1.25.5)\n",
            "Requirement already satisfied: wget in ./venv/lib/python3.9/site-packages (3.2)\n",
            "\u001b[33mWARNING: You are using pip version 21.2.4; however, version 25.1.1 is available.\n",
            "You should consider upgrading via the '/Users/carlosalberto/Documents/projects/ai/TEESI_2025/venv/bin/python3 -m pip install --upgrade pip' command.\u001b[0m\n"
          ]
        }
      ],
      "source": [
        "#Instalação\n",
        "!pip install pymupdf wget"
      ]
    },
    {
      "cell_type": "code",
      "execution_count": 2,
      "metadata": {
        "id": "S65gR2qydPX8"
      },
      "outputs": [],
      "source": [
        "import fitz\n",
        "import os\n",
        "\n",
        "import numpy as np\n",
        "import pandas as pd\n",
        "\n",
        "import re"
      ]
    },
    {
      "cell_type": "code",
      "execution_count": 3,
      "metadata": {
        "id": "wYSqokDdfrCo"
      },
      "outputs": [],
      "source": [
        "#Loader PDF to Text\n",
        "class PdfToText():\n",
        "  def __init__(self):\n",
        "    pass\n",
        "\n",
        "  def convert_from_file(self, filename):\n",
        "    try:\n",
        "      doc = self.load_pdf(filename)\n",
        "    except:\n",
        "      print( \"Unable to open file.\" )\n",
        "      return \"\"\n",
        "\n",
        "    text = \"\"\n",
        "    i = 0;\n",
        "    for page in doc:\n",
        "      text += page.get_text()+f\"pagina {i}\" + (50 * \"-\") + \"\\n\\n\\n\"\n",
        "      i = i + 1;\n",
        "    \n",
        "    doc.close()\n",
        "    return text\n",
        "\n",
        "  def load_pdf(self, filename):\n",
        "    return fitz.open(filename)\n",
        "\n",
        "class EnemExam(PdfToText):\n",
        "  def __init__(self):\n",
        "    pass\n",
        "\n",
        "  def read_questions(self, filename):\n",
        "    self.text = self.convert_from_file(filename)\n",
        "    #print(self.text)\n",
        "    self.find_topics()\n",
        "    self.find_questions()\n",
        "    self.find_color()\n",
        "\n",
        "  def find_topics(self):\n",
        "    self._topics = ['matemática e suas tecnologias',\n",
        "                    'linguagens, códigos',\n",
        "                    'ciências humanas',\n",
        "                    'ciências da natureza',\n",
        "                    ]\n",
        "\n",
        "    topic_poss = [ self.text.lower().rfind(topic) for topic in self._topics ]\n",
        "\n",
        "    self._topics_loc = [ (topic,topic_pos) for topic, topic_pos in zip(self._topics, topic_poss) if topic_pos>0 ]\n",
        "    #ordena pela posição do tópico no texto.\n",
        "    self._topics_loc.sort( key=lambda t: t[1] )\n",
        "\n",
        "  def find_color(self):\n",
        "    self._color = \"\"\n",
        "    padroes = [\n",
        "        r\"CADERNO\\s*\\n(\\w+)\",                    # Padrão 1: \"CADERNO\\nAZUL\"\n",
        "        r\"Caderno\\s+\\d+\\s*-\\s*(\\w+)\\s*-\"         # Padrão 2: \"Caderno 1 - AZUL - ...\"\n",
        "    ]\n",
        "    \n",
        "    for padrao in padroes:\n",
        "      match = re.search(padrao, self.text.lower(), re.IGNORECASE)\n",
        "      if match:\n",
        "        self._color = match.group(1).upper()\n",
        "\n",
        "  def find_questions(self):\n",
        "    matchs = []\n",
        "    for match in re.finditer('\\n(questão) [0-9]+', self.text.lower()):\n",
        "      matchs.append( match.start() )\n",
        "\n",
        "    start_pos = matchs[-1]\n",
        "    match_end = re.search(r'\\*[a-z0-9]+\\*', self.text.lower()[start_pos:])\n",
        "    matchs.append(start_pos + match_end.start())\n",
        "   \n",
        "    self.questions = []\n",
        "    self.questions_topic = []\n",
        "    self.questions_start = []\n",
        "    for i in range( 1, len(matchs) ):\n",
        "      self.questions.append( self.text[matchs[i-1]:matchs[i] ] )\n",
        "      self.questions_topic.append( self.define_question_topic(matchs[i-1]) )\n",
        "      self.questions_start.append( matchs[i-1] )\n",
        "\n",
        "    \n",
        "  def define_question_topic(self, start):\n",
        "    question_topic = 0 #UNDEFINED\n",
        "\n",
        "    for topic, topic_start in self._topics_loc:\n",
        "      if start > topic_start:\n",
        "        question_topic = (self._topics.index(topic)+1)\n",
        "\n",
        "    return question_topic"
      ]
    },
    {
      "cell_type": "code",
      "execution_count": 13,
      "metadata": {
        "id": "hW0wtjpag6dv"
      },
      "outputs": [
        {
          "name": "stdout",
          "output_type": "stream",
          "text": [
            "enunciado    \\nQUESTÃO 01\\t\\nAs my official bio reads, I wa...\n",
            "label                                             desconhecido\n",
            "cor_prova                                                 AZUL\n",
            "Name: 0, dtype: object\n"
          ]
        }
      ],
      "source": [
        "nome_arquivo_provas = os.listdir('./temp/')\n",
        "enem_exam = EnemExam()\n",
        "enem_dfs = []\n",
        "\n",
        "for nome_arquivo_prova in nome_arquivo_provas:\n",
        "  enem_exam.read_questions('./temp/'+nome_arquivo_prova)\n",
        "  enem_dfs.append(\n",
        "      pd.DataFrame( data=dict( \n",
        "        enunciado=enem_exam.questions, \n",
        "        label=enem_exam.questions_topic, \n",
        "        cor_prova=enem_exam._color)\n",
        "    )\n",
        "  )\n",
        "\n",
        "#Mapeie cada label para o nome do tópico\n",
        "enem_dfs = [enem_df.replace({0:'desconhecido',1:'matemática e suas tecnologias', 2:'linguagens, códigos e suas tecnologias', 3:'ciências humanas e suas tecnologias', 4:'ciências da natureza e suas tecnologias'}) for enem_df in enem_dfs]\n",
        "#Mostre uma posição específica do enem_dfs\n",
        "print(enem_dfs[0].iloc[0])"
      ]
    },
    {
      "cell_type": "code",
      "execution_count": 14,
      "metadata": {
        "id": "95R_MC34hLpw"
      },
      "outputs": [
        {
          "name": "stdout",
          "output_type": "stream",
          "text": [
            "76\n",
            "19\n"
          ]
        }
      ],
      "source": [
        "from sklearn.model_selection import train_test_split\n",
        "\n",
        "questions_df = pd.concat( enem_dfs )\n",
        "\n",
        "\n",
        "train_df, test_df = train_test_split(questions_df, test_size=0.2, random_state=42)\n",
        "\n",
        "print(len(train_df))\n",
        "print(len(test_df))"
      ]
    },
    {
      "cell_type": "code",
      "execution_count": 15,
      "metadata": {
        "id": "LVgGYQ4ThQHd"
      },
      "outputs": [],
      "source": [
        "train_df.to_json( 'data/enem/train/enem_questoes.json', orient='records' )\n",
        "test_df.to_json( 'data/enem/test/enem_questoes.json', orient='records' )"
      ]
    },
    {
      "cell_type": "code",
      "execution_count": 16,
      "metadata": {
        "id": "6apxxVlFhSbI"
      },
      "outputs": [
        {
          "data": {
            "application/vnd.jupyter.widget-view+json": {
              "model_id": "806c5509dd2643e4a21eaab11f9cb811",
              "version_major": 2,
              "version_minor": 0
            },
            "text/plain": [
              "Generating train split: 0 examples [00:00, ? examples/s]"
            ]
          },
          "metadata": {},
          "output_type": "display_data"
        },
        {
          "data": {
            "application/vnd.jupyter.widget-view+json": {
              "model_id": "971b8108d569409191e39d2cb7dddc1d",
              "version_major": 2,
              "version_minor": 0
            },
            "text/plain": [
              "Generating test split: 0 examples [00:00, ? examples/s]"
            ]
          },
          "metadata": {},
          "output_type": "display_data"
        },
        {
          "name": "stdout",
          "output_type": "stream",
          "text": [
            "DatasetDict({\n",
            "    train: Dataset({\n",
            "        features: ['enunciado', 'label', 'cor_prova'],\n",
            "        num_rows: 76\n",
            "    })\n",
            "    test: Dataset({\n",
            "        features: ['enunciado', 'label', 'cor_prova'],\n",
            "        num_rows: 19\n",
            "    })\n",
            "})\n"
          ]
        }
      ],
      "source": [
        "from datasets import load_dataset\n",
        "\n",
        "# Caminho para o diretorio\n",
        "json_dir_path = \"./data/enem/\"\n",
        "\n",
        "# Carregar o dataset a partir do diretorio\n",
        "dataset = load_dataset(\"json\", data_dir=json_dir_path)\n",
        "\n",
        "# Exibir algumas amostras do dataset\n",
        "print(dataset)"
      ]
    },
    {
      "cell_type": "code",
      "execution_count": 17,
      "metadata": {
        "id": "Gx3WWS5ShUPT"
      },
      "outputs": [
        {
          "name": "stdout",
          "output_type": "stream",
          "text": [
            "\n",
            "QUESTÃO 62\t\n",
            "Brasil e Argentina chegaram a um acordo para a \n",
            "redução em 10% da Tarifa Externa Comum (TEC) do \n",
            "Mercosul. O consenso foi alcançado durante negociação \n",
            "entre o ministro das Relações Exteriores do Brasil e o \n",
            "seu equivalente argentino, no Palácio do Itamaraty, em \n",
            "Brasília, no início do mês de outubro de 2021. A redução \n",
            "da TEC é um antigo desejo do Brasil, que pretende \n",
            "abrir mais sua economia e, com isso, ajudar a controlar \n",
            "a inflação. Já a Argentina temia que a medida pudesse \n",
            "afetar sua produção industrial. O acordo vai abranger \n",
            "uma ampla gama de produtos e ainda será apresentado \n",
            "ao Paraguai e Uruguai, para que seja formalizado.\n",
            "Brasil e Argentina fecham acordo para corte de 10% na tarifa do Mercosul. \n",
            "Disponível em: https://oglobo.globo.com. Acesso em: 8 out. 2021 (adaptado).\n",
            "A necessidade de negociação diplomática para viabilizar \n",
            "o acordo tarifário mencionado é explicada pela seguinte \n",
            "característica do Mercosul:\n",
            "A\t\n",
            "A\t Limitação da circulação financeira.\n",
            "B\t\n",
            "B\t Padronização da política monetária.\n",
            "C\t\n",
            "C\t Funcionamento da união aduaneira.\n",
            "D\t\n",
            "D\t Dependência da exportação agrícola.\n",
            "E\t\n",
            "E\t Equivalência da legislação trabalhista.\n"
          ]
        }
      ],
      "source": [
        "import pandas as pd\n",
        "\n",
        "dataset.set_format(type=\"pandas\")\n",
        "df = dataset[\"train\"][:300]\n",
        "\n",
        "#df.head()\n",
        "\n",
        "print(df.iloc[0][\"enunciado\"])"
      ]
    }
  ],
  "metadata": {
    "colab": {
      "provenance": []
    },
    "kernelspec": {
      "display_name": "venv",
      "language": "python",
      "name": "python3"
    },
    "language_info": {
      "codemirror_mode": {
        "name": "ipython",
        "version": 3
      },
      "file_extension": ".py",
      "mimetype": "text/x-python",
      "name": "python",
      "nbconvert_exporter": "python",
      "pygments_lexer": "ipython3",
      "version": "3.9.6"
    }
  },
  "nbformat": 4,
  "nbformat_minor": 0
}
